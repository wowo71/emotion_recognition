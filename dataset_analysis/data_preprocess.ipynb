{
 "cells": [
  {
   "cell_type": "code",
   "execution_count": 16,
   "id": "05de3d6b-a941-4f1e-a603-a6784ae70411",
   "metadata": {},
   "outputs": [],
   "source": [
    "import pandas as pd"
   ]
  },
  {
   "cell_type": "markdown",
   "id": "3612fc7c-c8c8-43a7-ae13-00db2746ddca",
   "metadata": {},
   "source": [
    "### iSEAR preprocessing"
   ]
  },
  {
   "cell_type": "code",
   "execution_count": 17,
   "id": "91e34a54-6d56-4902-a227-2d4c6a78fb61",
   "metadata": {},
   "outputs": [],
   "source": [
    "df = pd.read_csv(\"./dataset/original_datasets/isear.csv\", sep=\"|\")"
   ]
  },
  {
   "cell_type": "code",
   "execution_count": 18,
   "id": "4ad63465-f6d9-4388-9cc0-866334d91c86",
   "metadata": {},
   "outputs": [],
   "source": [
    "df = df[[\"Field1\", \"SIT\"]]\n",
    "df = df.rename(columns={\"Field1\": \"emotion\", \"SIT\": \"comment\"})"
   ]
  },
  {
   "cell_type": "code",
   "execution_count": 19,
   "id": "14aaf02e-a84f-4750-bda8-3756cb38bbf4",
   "metadata": {},
   "outputs": [],
   "source": [
    "df = df.drop(df[df.comment.str.startswith(\"[\") & df.comment.str.endswith(\"]\")].index)"
   ]
  },
  {
   "cell_type": "code",
   "execution_count": 20,
   "id": "82a0b348-9492-4fdf-bb6b-a14b7d7e849d",
   "metadata": {},
   "outputs": [],
   "source": [
    "df = df.drop_duplicates(subset=\"comment\")"
   ]
  },
  {
   "cell_type": "code",
   "execution_count": 21,
   "id": "6eea9a01-1654-443a-904b-589ac664806f",
   "metadata": {},
   "outputs": [
    {
     "data": {
      "text/plain": [
       "fear       1073\n",
       "anger      1070\n",
       "joy        1066\n",
       "disgust    1063\n",
       "guilt      1045\n",
       "sadness    1040\n",
       "shame      1040\n",
       "Name: emotion, dtype: int64"
      ]
     },
     "execution_count": 21,
     "metadata": {},
     "output_type": "execute_result"
    }
   ],
   "source": [
    "df['emotion'].value_counts()"
   ]
  },
  {
   "cell_type": "code",
   "execution_count": 22,
   "id": "ef8adf2b-f1fd-4c35-9c42-2ca986d2b294",
   "metadata": {},
   "outputs": [],
   "source": [
    "df = df.drop(df[df.emotion == \"shame\"].index)\n",
    "df = df.drop(df[df.emotion == \"guilt\"].index)"
   ]
  },
  {
   "cell_type": "code",
   "execution_count": 125,
   "id": "11d11c74-f390-4e9e-8a40-b5cec07da373",
   "metadata": {},
   "outputs": [],
   "source": [
    "from spellchecker import SpellChecker\n",
    "\n",
    "spell = SpellChecker()\n",
    "\n",
    "def spell_check(x):\n",
    "    correct_word = []\n",
    "    mispelled_word = x.split()\n",
    "    for word in mispelled_word:\n",
    "        correct_word.append(spell.correction(word))\n",
    "#     print(\"dziala\")\n",
    "    return ' '.join(correct_word)"
   ]
  },
  {
   "cell_type": "code",
   "execution_count": 24,
   "id": "eb5be0ef-2acf-49cb-87be-535ce43d6ea8",
   "metadata": {},
   "outputs": [],
   "source": [
    "df['comment'] = df['comment'].apply(lambda x: spell_check(x))"
   ]
  },
  {
   "cell_type": "code",
   "execution_count": 25,
   "id": "64fa8246-f7bd-4108-9fd7-d6341cca2320",
   "metadata": {},
   "outputs": [
    {
     "data": {
      "text/html": [
       "<div>\n",
       "<style scoped>\n",
       "    .dataframe tbody tr th:only-of-type {\n",
       "        vertical-align: middle;\n",
       "    }\n",
       "\n",
       "    .dataframe tbody tr th {\n",
       "        vertical-align: top;\n",
       "    }\n",
       "\n",
       "    .dataframe thead th {\n",
       "        text-align: right;\n",
       "    }\n",
       "</style>\n",
       "<table border=\"1\" class=\"dataframe\">\n",
       "  <thead>\n",
       "    <tr style=\"text-align: right;\">\n",
       "      <th></th>\n",
       "      <th>emotion</th>\n",
       "      <th>comment</th>\n",
       "    </tr>\n",
       "  </thead>\n",
       "  <tbody>\n",
       "    <tr>\n",
       "      <th>0</th>\n",
       "      <td>joy</td>\n",
       "      <td>During the period of falling in love each time...</td>\n",
       "    </tr>\n",
       "    <tr>\n",
       "      <th>1</th>\n",
       "      <td>fear</td>\n",
       "      <td>When I was involved in a traffic accident</td>\n",
       "    </tr>\n",
       "    <tr>\n",
       "      <th>2</th>\n",
       "      <td>anger</td>\n",
       "      <td>When I was driving home after several days of ...</td>\n",
       "    </tr>\n",
       "    <tr>\n",
       "      <th>3</th>\n",
       "      <td>sadness</td>\n",
       "      <td>When I lost the person who meant the most to me</td>\n",
       "    </tr>\n",
       "    <tr>\n",
       "      <th>4</th>\n",
       "      <td>disgust</td>\n",
       "      <td>The time I knocked a deer down - the sight of ...</td>\n",
       "    </tr>\n",
       "    <tr>\n",
       "      <th>...</th>\n",
       "      <td>...</td>\n",
       "      <td>...</td>\n",
       "    </tr>\n",
       "    <tr>\n",
       "      <th>7659</th>\n",
       "      <td>joy</td>\n",
       "      <td>I received a letter from a distant friend</td>\n",
       "    </tr>\n",
       "    <tr>\n",
       "      <th>7660</th>\n",
       "      <td>fear</td>\n",
       "      <td>My parents were out and I was the eldest at ho...</td>\n",
       "    </tr>\n",
       "    <tr>\n",
       "      <th>7661</th>\n",
       "      <td>anger</td>\n",
       "      <td>Two years back someone invited me to be the tu...</td>\n",
       "    </tr>\n",
       "    <tr>\n",
       "      <th>7662</th>\n",
       "      <td>sadness</td>\n",
       "      <td>I had taken the responsibility to do something...</td>\n",
       "    </tr>\n",
       "    <tr>\n",
       "      <th>7663</th>\n",
       "      <td>disgust</td>\n",
       "      <td>I was at home and I heard a loud sound of spit...</td>\n",
       "    </tr>\n",
       "  </tbody>\n",
       "</table>\n",
       "<p>5312 rows × 2 columns</p>\n",
       "</div>"
      ],
      "text/plain": [
       "      emotion                                            comment\n",
       "0         joy  During the period of falling in love each time...\n",
       "1        fear          When I was involved in a traffic accident\n",
       "2       anger  When I was driving home after several days of ...\n",
       "3     sadness    When I lost the person who meant the most to me\n",
       "4     disgust  The time I knocked a deer down - the sight of ...\n",
       "...       ...                                                ...\n",
       "7659      joy          I received a letter from a distant friend\n",
       "7660     fear  My parents were out and I was the eldest at ho...\n",
       "7661    anger  Two years back someone invited me to be the tu...\n",
       "7662  sadness  I had taken the responsibility to do something...\n",
       "7663  disgust  I was at home and I heard a loud sound of spit...\n",
       "\n",
       "[5312 rows x 2 columns]"
      ]
     },
     "execution_count": 25,
     "metadata": {},
     "output_type": "execute_result"
    }
   ],
   "source": [
    "df"
   ]
  },
  {
   "cell_type": "code",
   "execution_count": 41,
   "id": "5b42a9a9-6e91-438f-93ab-757121e81050",
   "metadata": {},
   "outputs": [],
   "source": [
    "df = df.drop(df[df['comment'].str.split(\" \").apply(len) < 5].index)"
   ]
  },
  {
   "cell_type": "code",
   "execution_count": 42,
   "id": "2055ff9a-b30a-4718-8b2d-333516624708",
   "metadata": {},
   "outputs": [
    {
     "data": {
      "text/html": [
       "<div>\n",
       "<style scoped>\n",
       "    .dataframe tbody tr th:only-of-type {\n",
       "        vertical-align: middle;\n",
       "    }\n",
       "\n",
       "    .dataframe tbody tr th {\n",
       "        vertical-align: top;\n",
       "    }\n",
       "\n",
       "    .dataframe thead th {\n",
       "        text-align: right;\n",
       "    }\n",
       "</style>\n",
       "<table border=\"1\" class=\"dataframe\">\n",
       "  <thead>\n",
       "    <tr style=\"text-align: right;\">\n",
       "      <th></th>\n",
       "      <th>emotion</th>\n",
       "      <th>comment</th>\n",
       "    </tr>\n",
       "  </thead>\n",
       "  <tbody>\n",
       "    <tr>\n",
       "      <th>count</th>\n",
       "      <td>5149</td>\n",
       "      <td>5149</td>\n",
       "    </tr>\n",
       "    <tr>\n",
       "      <th>unique</th>\n",
       "      <td>5</td>\n",
       "      <td>5149</td>\n",
       "    </tr>\n",
       "    <tr>\n",
       "      <th>top</th>\n",
       "      <td>anger</td>\n",
       "      <td>During the period of falling in love each time...</td>\n",
       "    </tr>\n",
       "    <tr>\n",
       "      <th>freq</th>\n",
       "      <td>1043</td>\n",
       "      <td>1</td>\n",
       "    </tr>\n",
       "  </tbody>\n",
       "</table>\n",
       "</div>"
      ],
      "text/plain": [
       "       emotion                                            comment\n",
       "count     5149                                               5149\n",
       "unique       5                                               5149\n",
       "top      anger  During the period of falling in love each time...\n",
       "freq      1043                                                  1"
      ]
     },
     "execution_count": 42,
     "metadata": {},
     "output_type": "execute_result"
    }
   ],
   "source": [
    "df.describe()"
   ]
  },
  {
   "cell_type": "code",
   "execution_count": 43,
   "id": "e338e11c-f5fc-4846-ad32-8bf2cf0cce75",
   "metadata": {},
   "outputs": [
    {
     "data": {
      "text/plain": [
       "anger      1043\n",
       "fear       1042\n",
       "joy        1040\n",
       "disgust    1039\n",
       "sadness     985\n",
       "Name: emotion, dtype: int64"
      ]
     },
     "execution_count": 43,
     "metadata": {},
     "output_type": "execute_result"
    }
   ],
   "source": [
    "df['emotion'].value_counts()"
   ]
  },
  {
   "cell_type": "code",
   "execution_count": 44,
   "id": "385039ea-4b17-4e22-b089-98764ef8e9f3",
   "metadata": {},
   "outputs": [],
   "source": [
    "import re\n",
    "\n",
    "def remove_non_utf_8_chars_from_text(text):\n",
    "    pattern = re.compile('(?i)[^a-z0-9 \\n]+')\n",
    "    return pattern.sub('', text)"
   ]
  },
  {
   "cell_type": "code",
   "execution_count": 46,
   "id": "fb9471ac-6b41-463c-8c80-f0ce34e3c41e",
   "metadata": {},
   "outputs": [],
   "source": [
    "df['comment'] = df['comment'].apply(remove_non_utf_8_chars_from_text)"
   ]
  },
  {
   "cell_type": "code",
   "execution_count": 52,
   "id": "f6280027-a203-4d44-99b4-4f4c024e1445",
   "metadata": {},
   "outputs": [],
   "source": [
    "df['comment'] = df['comment'].str.lower()"
   ]
  },
  {
   "cell_type": "code",
   "execution_count": 54,
   "id": "967840f5-80e5-4d4a-8cc5-3b5d804a5302",
   "metadata": {},
   "outputs": [],
   "source": [
    "import contractions\n",
    "\n",
    "df['comment'] = df['comment'].apply(contractions.fix)"
   ]
  },
  {
   "cell_type": "code",
   "execution_count": 56,
   "id": "85d183e2-d225-41ac-aee3-d9056ccc49e4",
   "metadata": {},
   "outputs": [],
   "source": [
    "df.to_csv(\"./dataset/preprocessed_datasets/isear_preprocessed.csv\", sep=\",\", index=False)"
   ]
  },
  {
   "cell_type": "markdown",
   "id": "236303cf-35a1-4476-8570-8efd840640e9",
   "metadata": {},
   "source": [
    "### tweet_emotion preprocessing"
   ]
  },
  {
   "cell_type": "code",
   "execution_count": 108,
   "id": "09569c4b-beab-4796-8de7-b98a98abdb06",
   "metadata": {},
   "outputs": [],
   "source": [
    "df = pd.read_csv(\"./dataset/original_datasets/tweet_emotions.csv\", sep=',')\n",
    "df = df[[\"sentiment\", \"content\"]]\n",
    "df = df.rename(columns={\"sentiment\": \"emotion\", \"content\": \"comment\"})"
   ]
  },
  {
   "cell_type": "code",
   "execution_count": 109,
   "id": "d8554c5e-49bb-48a9-8c18-8ca0e36c3b7e",
   "metadata": {},
   "outputs": [],
   "source": [
    "df = df.drop(df[df.emotion == \"neutral\"].index)\n",
    "df = df.drop(df[df.emotion == \"hate\"].index)\n",
    "df = df.drop(df[df.emotion == \"empty\"].index)\n",
    "df = df.drop(df[df.emotion == \"boredom\"].index)\n",
    "df = df.drop(df[df.emotion == \"enthusiasm\"].index)\n",
    "df = df.drop(df[df.emotion == \"relief\"].index)\n",
    "df = df.drop(df[df.emotion == \"fun\"].index)\n",
    "df = df.drop(df[df.emotion == \"love\"].index)"
   ]
  },
  {
   "cell_type": "code",
   "execution_count": 110,
   "id": "346d6c11-b5f1-46b0-abb1-d739892a6d21",
   "metadata": {},
   "outputs": [],
   "source": [
    "df['comment'] = df['comment'].str.lower()"
   ]
  },
  {
   "cell_type": "code",
   "execution_count": 111,
   "id": "5e1713ae-cfc6-4070-b275-a02cbac6e039",
   "metadata": {},
   "outputs": [],
   "source": [
    "def remove_links_and_tags_from_text(text):\n",
    "    text = re.sub(\n",
    "    r\"(?i)\\b((?:https?://|www\\d{0,3}[.]|[a-z0-9.\\-]+[.][a-z]{2,4}/)(?:[^\\s()<>]+|\\(([^\\s()<>]+|(\\([^\\s()<>]+\\)))*\\))+(?:\\(([^\\s()<>]+|(\\([^\\s()<>]+\\)))*\\)|[^\\s`!()\\[\\]{};:'\\\".,<>?«»“”‘’]))\",\n",
    "    '', text, flags=re.MULTILINE)\n",
    "    text = (re.sub(r\"[@](.*?)[\\s]\", '', text, flags=re.MULTILINE))\n",
    "    return text"
   ]
  },
  {
   "cell_type": "code",
   "execution_count": 112,
   "id": "a830d1ec-e44a-468f-bfc2-a4614ebf5863",
   "metadata": {},
   "outputs": [],
   "source": [
    "df['comment'] = df['comment'].apply(remove_links_and_tags_from_text)"
   ]
  },
  {
   "cell_type": "code",
   "execution_count": 113,
   "id": "82cb5606-032e-41ec-9821-262456d53e8d",
   "metadata": {},
   "outputs": [],
   "source": [
    "df['comment'] = df['comment'].apply(contractions.fix)"
   ]
  },
  {
   "cell_type": "code",
   "execution_count": 114,
   "id": "0115e96a-eda4-4680-ab5c-f211a123b155",
   "metadata": {},
   "outputs": [],
   "source": [
    "df['comment'] = df['comment'].apply(remove_non_utf_8_chars_from_text)"
   ]
  },
  {
   "cell_type": "code",
   "execution_count": 115,
   "id": "34aa2548-591d-4f25-9185-0f949a3ed5a0",
   "metadata": {},
   "outputs": [
    {
     "data": {
      "text/html": [
       "<div>\n",
       "<style scoped>\n",
       "    .dataframe tbody tr th:only-of-type {\n",
       "        vertical-align: middle;\n",
       "    }\n",
       "\n",
       "    .dataframe tbody tr th {\n",
       "        vertical-align: top;\n",
       "    }\n",
       "\n",
       "    .dataframe thead th {\n",
       "        text-align: right;\n",
       "    }\n",
       "</style>\n",
       "<table border=\"1\" class=\"dataframe\">\n",
       "  <thead>\n",
       "    <tr style=\"text-align: right;\">\n",
       "      <th></th>\n",
       "      <th>emotion</th>\n",
       "      <th>comment</th>\n",
       "    </tr>\n",
       "  </thead>\n",
       "  <tbody>\n",
       "    <tr>\n",
       "      <th>1</th>\n",
       "      <td>sadness</td>\n",
       "      <td>layin n bed with a headache  ughhhhwaitin on y...</td>\n",
       "    </tr>\n",
       "    <tr>\n",
       "      <th>2</th>\n",
       "      <td>sadness</td>\n",
       "      <td>funeral ceremonygloomy friday</td>\n",
       "    </tr>\n",
       "    <tr>\n",
       "      <th>5</th>\n",
       "      <td>worry</td>\n",
       "      <td>repinging why did not you go to prom bc my bf ...</td>\n",
       "    </tr>\n",
       "    <tr>\n",
       "      <th>6</th>\n",
       "      <td>sadness</td>\n",
       "      <td>i should be sleep but I am not thinking about ...</td>\n",
       "    </tr>\n",
       "    <tr>\n",
       "      <th>7</th>\n",
       "      <td>worry</td>\n",
       "      <td>hmmm  is down</td>\n",
       "    </tr>\n",
       "    <tr>\n",
       "      <th>...</th>\n",
       "      <td>...</td>\n",
       "      <td>...</td>\n",
       "    </tr>\n",
       "    <tr>\n",
       "      <th>39986</th>\n",
       "      <td>happiness</td>\n",
       "      <td>going to watch boy in the striped pjs hope i d...</td>\n",
       "    </tr>\n",
       "    <tr>\n",
       "      <th>39987</th>\n",
       "      <td>happiness</td>\n",
       "      <td>gave the bikes a thorough wash degrease it and...</td>\n",
       "    </tr>\n",
       "    <tr>\n",
       "      <th>39988</th>\n",
       "      <td>happiness</td>\n",
       "      <td>had such and amazing time last night mcfly wer...</td>\n",
       "    </tr>\n",
       "    <tr>\n",
       "      <th>39994</th>\n",
       "      <td>happiness</td>\n",
       "      <td>succesfully following tayla</td>\n",
       "    </tr>\n",
       "    <tr>\n",
       "      <th>39998</th>\n",
       "      <td>happiness</td>\n",
       "      <td>wassup beautiful follow me  peep out my new hi...</td>\n",
       "    </tr>\n",
       "  </tbody>\n",
       "</table>\n",
       "<p>21130 rows × 2 columns</p>\n",
       "</div>"
      ],
      "text/plain": [
       "         emotion                                            comment\n",
       "1        sadness  layin n bed with a headache  ughhhhwaitin on y...\n",
       "2        sadness                      funeral ceremonygloomy friday\n",
       "5          worry  repinging why did not you go to prom bc my bf ...\n",
       "6        sadness  i should be sleep but I am not thinking about ...\n",
       "7          worry                                      hmmm  is down\n",
       "...          ...                                                ...\n",
       "39986  happiness  going to watch boy in the striped pjs hope i d...\n",
       "39987  happiness  gave the bikes a thorough wash degrease it and...\n",
       "39988  happiness  had such and amazing time last night mcfly wer...\n",
       "39994  happiness                        succesfully following tayla\n",
       "39998  happiness  wassup beautiful follow me  peep out my new hi...\n",
       "\n",
       "[21130 rows x 2 columns]"
      ]
     },
     "execution_count": 115,
     "metadata": {},
     "output_type": "execute_result"
    }
   ],
   "source": [
    "df"
   ]
  },
  {
   "cell_type": "code",
   "execution_count": 116,
   "id": "a580ea0f-0646-4d5b-aa92-631b04a1b46c",
   "metadata": {},
   "outputs": [],
   "source": [
    "def remove_chained_whitespaces(text):\n",
    "    for i in range(15):\n",
    "        text = (re.sub(\"  \", ' ', text, flags=re.MULTILINE))\n",
    "    return text"
   ]
  },
  {
   "cell_type": "code",
   "execution_count": 117,
   "id": "2a9ec469-7f8b-4dcd-9ceb-9388c3956487",
   "metadata": {},
   "outputs": [],
   "source": [
    "df['comment'] = df['comment'].apply(remove_chained_whitespaces)"
   ]
  },
  {
   "cell_type": "code",
   "execution_count": 118,
   "id": "d9c5b3c6-b70b-4e2f-970c-a01ac5f3708c",
   "metadata": {},
   "outputs": [],
   "source": [
    "df = df.drop(df[df['comment'].str.split(\" \").apply(len) < 5].index)"
   ]
  },
  {
   "cell_type": "code",
   "execution_count": 119,
   "id": "faed77d9-0276-4ea6-9bd2-d17773d5caaf",
   "metadata": {},
   "outputs": [
    {
     "data": {
      "text/html": [
       "<div>\n",
       "<style scoped>\n",
       "    .dataframe tbody tr th:only-of-type {\n",
       "        vertical-align: middle;\n",
       "    }\n",
       "\n",
       "    .dataframe tbody tr th {\n",
       "        vertical-align: top;\n",
       "    }\n",
       "\n",
       "    .dataframe thead th {\n",
       "        text-align: right;\n",
       "    }\n",
       "</style>\n",
       "<table border=\"1\" class=\"dataframe\">\n",
       "  <thead>\n",
       "    <tr style=\"text-align: right;\">\n",
       "      <th></th>\n",
       "      <th>emotion</th>\n",
       "      <th>comment</th>\n",
       "    </tr>\n",
       "  </thead>\n",
       "  <tbody>\n",
       "    <tr>\n",
       "      <th>1</th>\n",
       "      <td>sadness</td>\n",
       "      <td>layin n bed with a headache ughhhhwaitin on yo...</td>\n",
       "    </tr>\n",
       "    <tr>\n",
       "      <th>5</th>\n",
       "      <td>worry</td>\n",
       "      <td>repinging why did not you go to prom bc my bf ...</td>\n",
       "    </tr>\n",
       "    <tr>\n",
       "      <th>6</th>\n",
       "      <td>sadness</td>\n",
       "      <td>i should be sleep but I am not thinking about ...</td>\n",
       "    </tr>\n",
       "    <tr>\n",
       "      <th>8</th>\n",
       "      <td>sadness</td>\n",
       "      <td>charlene my love i miss you</td>\n",
       "    </tr>\n",
       "    <tr>\n",
       "      <th>9</th>\n",
       "      <td>sadness</td>\n",
       "      <td>I am sorry at least it is friday</td>\n",
       "    </tr>\n",
       "    <tr>\n",
       "      <th>...</th>\n",
       "      <td>...</td>\n",
       "      <td>...</td>\n",
       "    </tr>\n",
       "    <tr>\n",
       "      <th>39985</th>\n",
       "      <td>happiness</td>\n",
       "      <td>husband is golfing amp the toddler and i shall...</td>\n",
       "    </tr>\n",
       "    <tr>\n",
       "      <th>39986</th>\n",
       "      <td>happiness</td>\n",
       "      <td>going to watch boy in the striped pjs hope i d...</td>\n",
       "    </tr>\n",
       "    <tr>\n",
       "      <th>39987</th>\n",
       "      <td>happiness</td>\n",
       "      <td>gave the bikes a thorough wash degrease it and...</td>\n",
       "    </tr>\n",
       "    <tr>\n",
       "      <th>39988</th>\n",
       "      <td>happiness</td>\n",
       "      <td>had such and amazing time last night mcfly wer...</td>\n",
       "    </tr>\n",
       "    <tr>\n",
       "      <th>39998</th>\n",
       "      <td>happiness</td>\n",
       "      <td>wassup beautiful follow me peep out my new hit...</td>\n",
       "    </tr>\n",
       "  </tbody>\n",
       "</table>\n",
       "<p>19359 rows × 2 columns</p>\n",
       "</div>"
      ],
      "text/plain": [
       "         emotion                                            comment\n",
       "1        sadness  layin n bed with a headache ughhhhwaitin on yo...\n",
       "5          worry  repinging why did not you go to prom bc my bf ...\n",
       "6        sadness  i should be sleep but I am not thinking about ...\n",
       "8        sadness                        charlene my love i miss you\n",
       "9        sadness                   I am sorry at least it is friday\n",
       "...          ...                                                ...\n",
       "39985  happiness  husband is golfing amp the toddler and i shall...\n",
       "39986  happiness  going to watch boy in the striped pjs hope i d...\n",
       "39987  happiness  gave the bikes a thorough wash degrease it and...\n",
       "39988  happiness  had such and amazing time last night mcfly wer...\n",
       "39998  happiness  wassup beautiful follow me peep out my new hit...\n",
       "\n",
       "[19359 rows x 2 columns]"
      ]
     },
     "execution_count": 119,
     "metadata": {},
     "output_type": "execute_result"
    }
   ],
   "source": [
    "df"
   ]
  },
  {
   "cell_type": "code",
   "execution_count": 88,
   "id": "1334a7a4-27ae-4fda-89e6-f2417be801d7",
   "metadata": {},
   "outputs": [],
   "source": [
    "from textblob import TextBlob\n",
    "\n",
    "def check_spelling(text):\n",
    "    textBlb = TextBlob(text)\n",
    "    return textBlb.correct() "
   ]
  },
  {
   "cell_type": "code",
   "execution_count": 120,
   "id": "28e8494e-8516-4db9-b530-059709d0db57",
   "metadata": {},
   "outputs": [],
   "source": [
    "import jamspell"
   ]
  },
  {
   "cell_type": "code",
   "execution_count": 121,
   "id": "3b743173-1373-4336-9739-c3942e26ff7b",
   "metadata": {},
   "outputs": [
    {
     "data": {
      "text/plain": [
       "True"
      ]
     },
     "execution_count": 121,
     "metadata": {},
     "output_type": "execute_result"
    }
   ],
   "source": [
    "corrector = jamspell.TSpellCorrector()\n",
    "corrector.LoadLangModel('./pretrained_vectors/en.bin')"
   ]
  },
  {
   "cell_type": "code",
   "execution_count": 122,
   "id": "62b5e5e8-c927-48ce-b692-993fdde9a973",
   "metadata": {},
   "outputs": [],
   "source": [
    "df['comment'] = df['comment'].apply(corrector.FixFragment)"
   ]
  },
  {
   "cell_type": "code",
   "execution_count": 123,
   "id": "5d503441-4199-4b22-a439-12fd0c7c46c1",
   "metadata": {},
   "outputs": [
    {
     "data": {
      "text/html": [
       "<div>\n",
       "<style scoped>\n",
       "    .dataframe tbody tr th:only-of-type {\n",
       "        vertical-align: middle;\n",
       "    }\n",
       "\n",
       "    .dataframe tbody tr th {\n",
       "        vertical-align: top;\n",
       "    }\n",
       "\n",
       "    .dataframe thead th {\n",
       "        text-align: right;\n",
       "    }\n",
       "</style>\n",
       "<table border=\"1\" class=\"dataframe\">\n",
       "  <thead>\n",
       "    <tr style=\"text-align: right;\">\n",
       "      <th></th>\n",
       "      <th>emotion</th>\n",
       "      <th>comment</th>\n",
       "    </tr>\n",
       "  </thead>\n",
       "  <tbody>\n",
       "    <tr>\n",
       "      <th>1</th>\n",
       "      <td>sadness</td>\n",
       "      <td>layin n bed with a headache ughhhhwaitin on yo...</td>\n",
       "    </tr>\n",
       "    <tr>\n",
       "      <th>5</th>\n",
       "      <td>worry</td>\n",
       "      <td>repinging why did not you go to from bc my bf ...</td>\n",
       "    </tr>\n",
       "    <tr>\n",
       "      <th>6</th>\n",
       "      <td>sadness</td>\n",
       "      <td>i should be sleep but I am not thinking about ...</td>\n",
       "    </tr>\n",
       "    <tr>\n",
       "      <th>8</th>\n",
       "      <td>sadness</td>\n",
       "      <td>charlene my love i miss you</td>\n",
       "    </tr>\n",
       "    <tr>\n",
       "      <th>9</th>\n",
       "      <td>sadness</td>\n",
       "      <td>I am sorry at least it is friday</td>\n",
       "    </tr>\n",
       "    <tr>\n",
       "      <th>...</th>\n",
       "      <td>...</td>\n",
       "      <td>...</td>\n",
       "    </tr>\n",
       "    <tr>\n",
       "      <th>39985</th>\n",
       "      <td>happiness</td>\n",
       "      <td>husband is golfing amp the toddler and i shall...</td>\n",
       "    </tr>\n",
       "    <tr>\n",
       "      <th>39986</th>\n",
       "      <td>happiness</td>\n",
       "      <td>going to watch boy in the striped pjs hope i d...</td>\n",
       "    </tr>\n",
       "    <tr>\n",
       "      <th>39987</th>\n",
       "      <td>happiness</td>\n",
       "      <td>gave the bikes a thorough wash decrease it and...</td>\n",
       "    </tr>\n",
       "    <tr>\n",
       "      <th>39988</th>\n",
       "      <td>happiness</td>\n",
       "      <td>had such and amazing time last night mcfly wer...</td>\n",
       "    </tr>\n",
       "    <tr>\n",
       "      <th>39998</th>\n",
       "      <td>happiness</td>\n",
       "      <td>assume beautiful follow me peep out my new hit...</td>\n",
       "    </tr>\n",
       "  </tbody>\n",
       "</table>\n",
       "<p>19359 rows × 2 columns</p>\n",
       "</div>"
      ],
      "text/plain": [
       "         emotion                                            comment\n",
       "1        sadness  layin n bed with a headache ughhhhwaitin on yo...\n",
       "5          worry  repinging why did not you go to from bc my bf ...\n",
       "6        sadness  i should be sleep but I am not thinking about ...\n",
       "8        sadness                        charlene my love i miss you\n",
       "9        sadness                   I am sorry at least it is friday\n",
       "...          ...                                                ...\n",
       "39985  happiness  husband is golfing amp the toddler and i shall...\n",
       "39986  happiness  going to watch boy in the striped pjs hope i d...\n",
       "39987  happiness  gave the bikes a thorough wash decrease it and...\n",
       "39988  happiness  had such and amazing time last night mcfly wer...\n",
       "39998  happiness  assume beautiful follow me peep out my new hit...\n",
       "\n",
       "[19359 rows x 2 columns]"
      ]
     },
     "execution_count": 123,
     "metadata": {},
     "output_type": "execute_result"
    }
   ],
   "source": [
    "df"
   ]
  },
  {
   "cell_type": "code",
   "execution_count": 126,
   "id": "36bfbb28-0ff2-47d2-875a-c1f88b263b4e",
   "metadata": {},
   "outputs": [],
   "source": [
    "df['comment'] = df['comment'].apply(lambda x: spell_check(x))"
   ]
  },
  {
   "cell_type": "code",
   "execution_count": 127,
   "id": "7fdfc858-4ec8-4ccb-a585-1225f553f621",
   "metadata": {},
   "outputs": [
    {
     "data": {
      "text/html": [
       "<div>\n",
       "<style scoped>\n",
       "    .dataframe tbody tr th:only-of-type {\n",
       "        vertical-align: middle;\n",
       "    }\n",
       "\n",
       "    .dataframe tbody tr th {\n",
       "        vertical-align: top;\n",
       "    }\n",
       "\n",
       "    .dataframe thead th {\n",
       "        text-align: right;\n",
       "    }\n",
       "</style>\n",
       "<table border=\"1\" class=\"dataframe\">\n",
       "  <thead>\n",
       "    <tr style=\"text-align: right;\">\n",
       "      <th></th>\n",
       "      <th>emotion</th>\n",
       "      <th>comment</th>\n",
       "    </tr>\n",
       "  </thead>\n",
       "  <tbody>\n",
       "    <tr>\n",
       "      <th>count</th>\n",
       "      <td>19359</td>\n",
       "      <td>19359</td>\n",
       "    </tr>\n",
       "    <tr>\n",
       "      <th>unique</th>\n",
       "      <td>5</td>\n",
       "      <td>19259</td>\n",
       "    </tr>\n",
       "    <tr>\n",
       "      <th>top</th>\n",
       "      <td>worry</td>\n",
       "      <td>i am lost please help me find a good home</td>\n",
       "    </tr>\n",
       "    <tr>\n",
       "      <th>freq</th>\n",
       "      <td>7836</td>\n",
       "      <td>15</td>\n",
       "    </tr>\n",
       "  </tbody>\n",
       "</table>\n",
       "</div>"
      ],
      "text/plain": [
       "       emotion                                    comment\n",
       "count    19359                                      19359\n",
       "unique       5                                      19259\n",
       "top      worry  i am lost please help me find a good home\n",
       "freq      7836                                         15"
      ]
     },
     "execution_count": 127,
     "metadata": {},
     "output_type": "execute_result"
    }
   ],
   "source": [
    "df.describe()"
   ]
  },
  {
   "cell_type": "code",
   "execution_count": 128,
   "id": "4ee7519a-0e2b-40b8-9674-f989b27d58db",
   "metadata": {},
   "outputs": [],
   "source": [
    "df = df.drop_duplicates(subset=\"comment\")"
   ]
  },
  {
   "cell_type": "code",
   "execution_count": 129,
   "id": "01e266f7-d29f-43e9-97b8-da16ce959abf",
   "metadata": {},
   "outputs": [
    {
     "data": {
      "text/html": [
       "<div>\n",
       "<style scoped>\n",
       "    .dataframe tbody tr th:only-of-type {\n",
       "        vertical-align: middle;\n",
       "    }\n",
       "\n",
       "    .dataframe tbody tr th {\n",
       "        vertical-align: top;\n",
       "    }\n",
       "\n",
       "    .dataframe thead th {\n",
       "        text-align: right;\n",
       "    }\n",
       "</style>\n",
       "<table border=\"1\" class=\"dataframe\">\n",
       "  <thead>\n",
       "    <tr style=\"text-align: right;\">\n",
       "      <th></th>\n",
       "      <th>emotion</th>\n",
       "      <th>comment</th>\n",
       "    </tr>\n",
       "  </thead>\n",
       "  <tbody>\n",
       "    <tr>\n",
       "      <th>count</th>\n",
       "      <td>19259</td>\n",
       "      <td>19259</td>\n",
       "    </tr>\n",
       "    <tr>\n",
       "      <th>unique</th>\n",
       "      <td>5</td>\n",
       "      <td>19259</td>\n",
       "    </tr>\n",
       "    <tr>\n",
       "      <th>top</th>\n",
       "      <td>worry</td>\n",
       "      <td>laying i bed with a headache ughhhhwaitin on y...</td>\n",
       "    </tr>\n",
       "    <tr>\n",
       "      <th>freq</th>\n",
       "      <td>7788</td>\n",
       "      <td>1</td>\n",
       "    </tr>\n",
       "  </tbody>\n",
       "</table>\n",
       "</div>"
      ],
      "text/plain": [
       "       emotion                                            comment\n",
       "count    19259                                              19259\n",
       "unique       5                                              19259\n",
       "top      worry  laying i bed with a headache ughhhhwaitin on y...\n",
       "freq      7788                                                  1"
      ]
     },
     "execution_count": 129,
     "metadata": {},
     "output_type": "execute_result"
    }
   ],
   "source": [
    "df.describe()"
   ]
  },
  {
   "cell_type": "code",
   "execution_count": 130,
   "id": "fa10918a-c90c-419c-8975-c850fef501fd",
   "metadata": {},
   "outputs": [],
   "source": [
    "df.to_csv(\"./dataset/preprocessed_datasets/tweet_emotion_preprocessed.csv\", sep=\",\", index=False)"
   ]
  },
  {
   "cell_type": "markdown",
   "id": "7510de54-a62a-4987-98c1-741800a07acb",
   "metadata": {},
   "source": [
    "### Crawled dataset preprocessing"
   ]
  },
  {
   "cell_type": "code",
   "execution_count": 157,
   "id": "6723d15b-8a50-4fbd-985f-e2060449d8d7",
   "metadata": {},
   "outputs": [],
   "source": [
    "df_disgust = pd.read_csv(\"./dataset/original_datasets/twitter_crawl_data/output_obrzydzenie.txt\", sep=\"\\n\", header=None)\n",
    "df_disgust.insert(0, \"emotion\", \"disgust\")\n",
    "df_disgust = df_disgust.rename(columns={0: \"comment\"})\n",
    "df_disgust = df_disgust.drop_duplicates(subset=\"comment\")"
   ]
  },
  {
   "cell_type": "code",
   "execution_count": 158,
   "id": "77a1eeaa-d839-4357-8a5f-2d82b71f2c67",
   "metadata": {},
   "outputs": [],
   "source": [
    "df_sadness = pd.read_csv(\"./dataset/original_datasets/twitter_crawl_data/output_smutek.txt\", sep=\"\\n\", header=None)\n",
    "df_sadness.insert(0, \"emotion\", \"sadness\")\n",
    "df_sadness = df_sadness.rename(columns={0: \"comment\"})\n",
    "df_sadness = df_sadness.drop_duplicates(subset=\"comment\")"
   ]
  },
  {
   "cell_type": "code",
   "execution_count": 159,
   "id": "151df932-d791-485e-8a98-db3761ef64ea",
   "metadata": {},
   "outputs": [],
   "source": [
    "df_fear = pd.read_csv(\"./dataset/original_datasets/twitter_crawl_data/output_strach.txt\", sep=\"\\n\", header=None)\n",
    "df_fear.insert(0, \"emotion\", \"fear\")\n",
    "df_fear = df_fear.rename(columns={0: \"comment\"})\n",
    "df_fear = df_fear.drop_duplicates(subset=\"comment\")"
   ]
  },
  {
   "cell_type": "code",
   "execution_count": 160,
   "id": "a47d4b20-1552-400e-8398-45ea4fe50282",
   "metadata": {},
   "outputs": [],
   "source": [
    "df_happiness = pd.read_csv(\"./dataset/original_datasets/twitter_crawl_data/output_szczescie.txt\", sep=\"\\n\", header=None)\n",
    "df_happiness.insert(0, \"emotion\", \"happiness\")\n",
    "df_happiness = df_happiness.rename(columns={0: \"comment\"})\n",
    "df_happiness = df_happiness.drop_duplicates(subset=\"comment\")"
   ]
  },
  {
   "cell_type": "code",
   "execution_count": 161,
   "id": "e3050bab-84a9-471a-93db-92978df4282a",
   "metadata": {},
   "outputs": [],
   "source": [
    "df_surprise = pd.read_csv(\"./dataset/original_datasets/twitter_crawl_data/output_zaskoczenie.txt\", sep=\"\\n\", header=None)\n",
    "df_surprise.insert(0, \"emotion\", \"surprise\")\n",
    "df_surprise = df_surprise.rename(columns={0: \"comment\"})\n",
    "df_surprise = df_surprise.drop_duplicates(subset=\"comment\")"
   ]
  },
  {
   "cell_type": "code",
   "execution_count": 162,
   "id": "bc7bf4ac-2270-4668-b775-d33df0a12b16",
   "metadata": {},
   "outputs": [],
   "source": [
    "df_anger = pd.read_csv(\"./dataset/original_datasets/twitter_crawl_data/output_zlosc.txt\", sep=\"\\n\", header=None)\n",
    "df_anger.insert(0, \"emotion\", \"anger\")\n",
    "df_anger = df_anger.rename(columns={0: \"comment\"})\n",
    "df_anger = df_anger.drop_duplicates(subset=\"comment\")"
   ]
  },
  {
   "cell_type": "code",
   "execution_count": 163,
   "id": "52eefcbe-befd-4b99-b81c-3bc1256d64c3",
   "metadata": {},
   "outputs": [],
   "source": [
    "df_all = pd.concat([df_disgust, df_sadness, df_fear, df_happiness, df_surprise, df_anger])"
   ]
  },
  {
   "cell_type": "code",
   "execution_count": 164,
   "id": "d47e3ebe-717e-4717-9d4c-6c1f16dfc2b0",
   "metadata": {},
   "outputs": [
    {
     "data": {
      "text/plain": [
       "emotion    8199\n",
       "comment    8199\n",
       "dtype: int64"
      ]
     },
     "execution_count": 164,
     "metadata": {},
     "output_type": "execute_result"
    }
   ],
   "source": [
    "df_all.count()"
   ]
  },
  {
   "cell_type": "code",
   "execution_count": 168,
   "id": "2cd73907-f0c8-4982-b18b-5734a29781ac",
   "metadata": {},
   "outputs": [
    {
     "data": {
      "text/plain": [
       "fear         2939\n",
       "happiness    1790\n",
       "sadness      1228\n",
       "anger         918\n",
       "surprise      683\n",
       "disgust       641\n",
       "Name: emotion, dtype: int64"
      ]
     },
     "execution_count": 168,
     "metadata": {},
     "output_type": "execute_result"
    }
   ],
   "source": [
    "df_all['emotion'].value_counts()"
   ]
  },
  {
   "cell_type": "code",
   "execution_count": 169,
   "id": "8fb140b3-05ef-47a2-ad3f-92095577a2d3",
   "metadata": {},
   "outputs": [],
   "source": [
    "df_all['comment'] = df_all['comment'].str.lower()"
   ]
  },
  {
   "cell_type": "code",
   "execution_count": 170,
   "id": "154f53c7-211e-492a-a6db-e008106f85e8",
   "metadata": {},
   "outputs": [],
   "source": [
    "df_all['comment'] = df_all['comment'].apply(remove_links_and_tags_from_text)"
   ]
  },
  {
   "cell_type": "code",
   "execution_count": 171,
   "id": "b878d022-c8b0-47bd-bbba-33bee7439822",
   "metadata": {},
   "outputs": [],
   "source": [
    "df_all['comment'] = df_all['comment'].apply(contractions.fix)"
   ]
  },
  {
   "cell_type": "code",
   "execution_count": 172,
   "id": "3e40c3e7-e868-4a85-a0f1-50ceb09be220",
   "metadata": {},
   "outputs": [],
   "source": [
    "df_all['comment'] = df_all['comment'].apply(remove_non_utf_8_chars_from_text)"
   ]
  },
  {
   "cell_type": "code",
   "execution_count": 173,
   "id": "da0db335-a0eb-4086-8bf2-2fb843be2452",
   "metadata": {},
   "outputs": [],
   "source": [
    "df_all['comment'] = df_all['comment'].apply(remove_chained_whitespaces)"
   ]
  },
  {
   "cell_type": "code",
   "execution_count": 174,
   "id": "68b37bb3-82c1-4857-b54d-eeb21e833e0c",
   "metadata": {},
   "outputs": [],
   "source": [
    "df_all = df_all.drop(df_all[df_all['comment'].str.split(\" \").apply(len) < 5].index)"
   ]
  },
  {
   "cell_type": "code",
   "execution_count": 175,
   "id": "8ec809cd-00bc-4cf3-a78a-abc6efe714ab",
   "metadata": {},
   "outputs": [],
   "source": [
    "df_all['comment'] = df_all['comment'].apply(corrector.FixFragment)"
   ]
  },
  {
   "cell_type": "code",
   "execution_count": 176,
   "id": "d202c01b-bc3e-4749-82e3-f6e3bf85c424",
   "metadata": {},
   "outputs": [],
   "source": [
    "df_all['comment'] = df_all['comment'].apply(lambda x: spell_check(x))"
   ]
  },
  {
   "cell_type": "code",
   "execution_count": 177,
   "id": "40d6c9a1-9655-4f80-963b-74dd5c79ce65",
   "metadata": {},
   "outputs": [
    {
     "data": {
      "text/html": [
       "<div>\n",
       "<style scoped>\n",
       "    .dataframe tbody tr th:only-of-type {\n",
       "        vertical-align: middle;\n",
       "    }\n",
       "\n",
       "    .dataframe tbody tr th {\n",
       "        vertical-align: top;\n",
       "    }\n",
       "\n",
       "    .dataframe thead th {\n",
       "        text-align: right;\n",
       "    }\n",
       "</style>\n",
       "<table border=\"1\" class=\"dataframe\">\n",
       "  <thead>\n",
       "    <tr style=\"text-align: right;\">\n",
       "      <th></th>\n",
       "      <th>emotion</th>\n",
       "      <th>comment</th>\n",
       "    </tr>\n",
       "  </thead>\n",
       "  <tbody>\n",
       "    <tr>\n",
       "      <th>0</th>\n",
       "      <td>disgust</td>\n",
       "      <td>disgust is an important core emotion to learn ...</td>\n",
       "    </tr>\n",
       "    <tr>\n",
       "      <th>4</th>\n",
       "      <td>disgust</td>\n",
       "      <td>disgust and its close relative contempt can in...</td>\n",
       "    </tr>\n",
       "    <tr>\n",
       "      <th>5</th>\n",
       "      <td>disgust</td>\n",
       "      <td>can never participate in any form of any gover...</td>\n",
       "    </tr>\n",
       "    <tr>\n",
       "      <th>6</th>\n",
       "      <td>disgust</td>\n",
       "      <td>can someone plus hack this person he is a guy ...</td>\n",
       "    </tr>\n",
       "    <tr>\n",
       "      <th>7</th>\n",
       "      <td>disgust</td>\n",
       "      <td>I am with disgust not ready to come back to th...</td>\n",
       "    </tr>\n",
       "    <tr>\n",
       "      <th>...</th>\n",
       "      <td>...</td>\n",
       "      <td>...</td>\n",
       "    </tr>\n",
       "    <tr>\n",
       "      <th>3321</th>\n",
       "      <td>anger</td>\n",
       "      <td>excessive anger can because problems increased...</td>\n",
       "    </tr>\n",
       "    <tr>\n",
       "      <th>3323</th>\n",
       "      <td>anger</td>\n",
       "      <td>anger is in itself neither good nor bait is wh...</td>\n",
       "    </tr>\n",
       "    <tr>\n",
       "      <th>3324</th>\n",
       "      <td>anger</td>\n",
       "      <td>anger can be a positive and useful emotion if ...</td>\n",
       "    </tr>\n",
       "    <tr>\n",
       "      <th>3325</th>\n",
       "      <td>anger</td>\n",
       "      <td>way to manage anger think before you speakpici...</td>\n",
       "    </tr>\n",
       "    <tr>\n",
       "      <th>3326</th>\n",
       "      <td>anger</td>\n",
       "      <td>do empathy feel jealousy or angermindsjournal ...</td>\n",
       "    </tr>\n",
       "  </tbody>\n",
       "</table>\n",
       "<p>7986 rows × 2 columns</p>\n",
       "</div>"
      ],
      "text/plain": [
       "      emotion                                            comment\n",
       "0     disgust  disgust is an important core emotion to learn ...\n",
       "4     disgust  disgust and its close relative contempt can in...\n",
       "5     disgust  can never participate in any form of any gover...\n",
       "6     disgust  can someone plus hack this person he is a guy ...\n",
       "7     disgust  I am with disgust not ready to come back to th...\n",
       "...       ...                                                ...\n",
       "3321    anger  excessive anger can because problems increased...\n",
       "3323    anger  anger is in itself neither good nor bait is wh...\n",
       "3324    anger  anger can be a positive and useful emotion if ...\n",
       "3325    anger  way to manage anger think before you speakpici...\n",
       "3326    anger  do empathy feel jealousy or angermindsjournal ...\n",
       "\n",
       "[7986 rows x 2 columns]"
      ]
     },
     "execution_count": 177,
     "metadata": {},
     "output_type": "execute_result"
    }
   ],
   "source": [
    "df_all"
   ]
  },
  {
   "cell_type": "code",
   "execution_count": 180,
   "id": "e654d327-f963-47b1-9b0a-594dbc46c750",
   "metadata": {},
   "outputs": [
    {
     "data": {
      "text/plain": [
       "fear         2909\n",
       "happiness    1726\n",
       "sadness      1189\n",
       "anger         891\n",
       "surprise      658\n",
       "disgust       613\n",
       "Name: emotion, dtype: int64"
      ]
     },
     "execution_count": 180,
     "metadata": {},
     "output_type": "execute_result"
    }
   ],
   "source": [
    "df_all['emotion'].value_counts()"
   ]
  },
  {
   "cell_type": "code",
   "execution_count": 183,
   "id": "3b33ed67-e96e-4b68-ac62-5e78ea0b81d5",
   "metadata": {},
   "outputs": [],
   "source": [
    "df_all.to_csv(\"./dataset/preprocessed_datasets/twitter_crawl_data_preprocessed.csv\", sep=\",\", index=False)"
   ]
  },
  {
   "cell_type": "code",
   "execution_count": null,
   "id": "966a21ad-c3ea-4328-8172-27dc4c6818d1",
   "metadata": {},
   "outputs": [],
   "source": []
  }
 ],
 "metadata": {
  "kernelspec": {
   "display_name": "venv_mgr",
   "language": "python",
   "name": "venv_mgr"
  },
  "language_info": {
   "codemirror_mode": {
    "name": "ipython",
    "version": 3
   },
   "file_extension": ".py",
   "mimetype": "text/x-python",
   "name": "python",
   "nbconvert_exporter": "python",
   "pygments_lexer": "ipython3",
   "version": "3.8.10"
  }
 },
 "nbformat": 4,
 "nbformat_minor": 5
}
