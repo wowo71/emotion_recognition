{
 "cells": [
  {
   "cell_type": "code",
   "execution_count": 57,
   "id": "289a825e-cdef-41ea-a366-04321e94a79c",
   "metadata": {},
   "outputs": [],
   "source": [
    "import pandas as pd"
   ]
  },
  {
   "cell_type": "code",
   "execution_count": 58,
   "id": "0c93ce67-a758-48d7-abd1-7d7ff7cf9dc0",
   "metadata": {},
   "outputs": [],
   "source": [
    "df1 = pd.read_csv(\"./dataset/preprocessed_datasets/tweet_emotion_preprocessed.csv\", sep=\",\")\n",
    "df2 = pd.read_csv(\"./dataset/preprocessed_datasets/isear_preprocessed.csv\", sep=\",\")\n",
    "df3 = pd.read_csv(\"./dataset/preprocessed_datasets/twitter_crawl_data_preprocessed.csv\", sep=\",\")"
   ]
  },
  {
   "cell_type": "code",
   "execution_count": 59,
   "id": "81beebac-d121-483f-8187-6f1720331881",
   "metadata": {},
   "outputs": [
    {
     "data": {
      "text/plain": [
       "worry        7788\n",
       "sadness      4730\n",
       "happiness    4660\n",
       "surprise     1977\n",
       "anger         104\n",
       "Name: emotion, dtype: int64"
      ]
     },
     "execution_count": 59,
     "metadata": {},
     "output_type": "execute_result"
    }
   ],
   "source": [
    "df1['emotion'].value_counts()"
   ]
  },
  {
   "cell_type": "code",
   "execution_count": 60,
   "id": "308d6b6b-c338-4acf-97aa-ce8f17139d33",
   "metadata": {},
   "outputs": [
    {
     "data": {
      "text/plain": [
       "anger        1043\n",
       "fear         1042\n",
       "happiness    1039\n",
       "disgust      1039\n",
       "sadness       985\n",
       "Name: emotion, dtype: int64"
      ]
     },
     "execution_count": 60,
     "metadata": {},
     "output_type": "execute_result"
    }
   ],
   "source": [
    "df2['emotion'].value_counts()"
   ]
  },
  {
   "cell_type": "code",
   "execution_count": 61,
   "id": "018710e9-2b45-4499-90cf-2b73ff74afdc",
   "metadata": {},
   "outputs": [
    {
     "data": {
      "text/plain": [
       "fear         2909\n",
       "happiness    1726\n",
       "sadness      1189\n",
       "anger         891\n",
       "surprise      658\n",
       "disgust       613\n",
       "Name: emotion, dtype: int64"
      ]
     },
     "execution_count": 61,
     "metadata": {},
     "output_type": "execute_result"
    }
   ],
   "source": [
    "df3['emotion'].value_counts()"
   ]
  },
  {
   "cell_type": "code",
   "execution_count": 62,
   "id": "24394e76-4063-4839-9e18-0d2261d7dd47",
   "metadata": {},
   "outputs": [],
   "source": [
    "df_final = df2"
   ]
  },
  {
   "cell_type": "code",
   "execution_count": 63,
   "id": "6cd69797-de85-48b3-b9a8-419a40382c9f",
   "metadata": {},
   "outputs": [
    {
     "data": {
      "text/plain": [
       "anger        1043\n",
       "fear         1042\n",
       "happiness    1039\n",
       "disgust      1039\n",
       "sadness       985\n",
       "Name: emotion, dtype: int64"
      ]
     },
     "execution_count": 63,
     "metadata": {},
     "output_type": "execute_result"
    }
   ],
   "source": [
    "df_final['emotion'].value_counts()"
   ]
  },
  {
   "cell_type": "code",
   "execution_count": 64,
   "id": "f609aad2-8e00-4d59-b47c-21673efba349",
   "metadata": {},
   "outputs": [],
   "source": [
    "df_final = pd.concat([df_final, df3[df3['emotion'] == \"surprise\"], df3[df3['emotion'] == \"disgust\"], df1[df1['emotion'] == \"surprise\"].head(1000)])"
   ]
  },
  {
   "cell_type": "code",
   "execution_count": 65,
   "id": "8fb74c5e-aa75-46aa-ac92-4bfd65ff2082",
   "metadata": {},
   "outputs": [
    {
     "data": {
      "text/plain": [
       "surprise     1658\n",
       "disgust      1652\n",
       "anger        1043\n",
       "fear         1042\n",
       "happiness    1039\n",
       "sadness       985\n",
       "Name: emotion, dtype: int64"
      ]
     },
     "execution_count": 65,
     "metadata": {},
     "output_type": "execute_result"
    }
   ],
   "source": [
    "df_final['emotion'].value_counts()"
   ]
  },
  {
   "cell_type": "code",
   "execution_count": 66,
   "id": "527c7e50-e839-4b95-a42c-5f59b9cd64ec",
   "metadata": {},
   "outputs": [],
   "source": [
    "df_final = pd.concat([df_final, df1[df1['emotion'] == \"anger\"], df3[df3['emotion'] == \"anger\"].head(500)])"
   ]
  },
  {
   "cell_type": "code",
   "execution_count": 67,
   "id": "d1f24cbe-90cd-4a9f-bdfb-607a845f6cab",
   "metadata": {},
   "outputs": [
    {
     "data": {
      "text/plain": [
       "surprise     1658\n",
       "disgust      1652\n",
       "anger        1647\n",
       "fear         1042\n",
       "happiness    1039\n",
       "sadness       985\n",
       "Name: emotion, dtype: int64"
      ]
     },
     "execution_count": 67,
     "metadata": {},
     "output_type": "execute_result"
    }
   ],
   "source": [
    "df_final['emotion'].value_counts()"
   ]
  },
  {
   "cell_type": "code",
   "execution_count": 68,
   "id": "7c092f06-6af8-46b9-8a21-4e5948f04d3d",
   "metadata": {},
   "outputs": [],
   "source": [
    "df_final = pd.concat([df_final, df1[df1['emotion'] == \"worry\"].head(300), df3[df3['emotion'] == \"fear\"].head(300)])"
   ]
  },
  {
   "cell_type": "code",
   "execution_count": 69,
   "id": "c7be066b-9386-4ca9-90c3-cb5f315fae75",
   "metadata": {},
   "outputs": [
    {
     "data": {
      "text/plain": [
       "surprise     1658\n",
       "disgust      1652\n",
       "anger        1647\n",
       "fear         1342\n",
       "happiness    1039\n",
       "sadness       985\n",
       "worry         300\n",
       "Name: emotion, dtype: int64"
      ]
     },
     "execution_count": 69,
     "metadata": {},
     "output_type": "execute_result"
    }
   ],
   "source": [
    "df_final['emotion'].value_counts()"
   ]
  },
  {
   "cell_type": "code",
   "execution_count": 70,
   "id": "bf6cf9ff-58ec-4453-bed5-7990a881c6d9",
   "metadata": {},
   "outputs": [],
   "source": [
    "df_final = pd.concat([df_final, df1[df1['emotion'] == \"sadness\"].head(350), df3[df3['emotion'] == \"sadness\"].head(300)])"
   ]
  },
  {
   "cell_type": "code",
   "execution_count": 71,
   "id": "82edfefc-1bda-42b8-97ae-5b1bbe4832d6",
   "metadata": {},
   "outputs": [],
   "source": [
    "df_final = pd.concat([df_final, df1[df1['emotion'] == \"happiness\"].head(300), df3[df3['emotion'] == \"happiness\"].head(300)])"
   ]
  },
  {
   "cell_type": "code",
   "execution_count": 72,
   "id": "b033215c-9a64-4c6e-924a-adb5eb41c82d",
   "metadata": {},
   "outputs": [
    {
     "data": {
      "text/plain": [
       "surprise     1658\n",
       "disgust      1652\n",
       "anger        1647\n",
       "happiness    1639\n",
       "sadness      1635\n",
       "fear         1342\n",
       "worry         300\n",
       "Name: emotion, dtype: int64"
      ]
     },
     "execution_count": 72,
     "metadata": {},
     "output_type": "execute_result"
    }
   ],
   "source": [
    "df_final['emotion'].value_counts()"
   ]
  },
  {
   "cell_type": "code",
   "execution_count": 73,
   "id": "7b626342-0774-42e8-82a0-c317a98e6f9e",
   "metadata": {},
   "outputs": [],
   "source": [
    "df_final[\"emotion\"].replace({\"worry\": \"fear\"}, inplace=True)"
   ]
  },
  {
   "cell_type": "code",
   "execution_count": 74,
   "id": "34700b5a-9bdf-46af-981f-dd1dbc191dcf",
   "metadata": {},
   "outputs": [
    {
     "data": {
      "text/plain": [
       "surprise     1658\n",
       "disgust      1652\n",
       "anger        1647\n",
       "fear         1642\n",
       "happiness    1639\n",
       "sadness      1635\n",
       "Name: emotion, dtype: int64"
      ]
     },
     "execution_count": 74,
     "metadata": {},
     "output_type": "execute_result"
    }
   ],
   "source": [
    "df_final['emotion'].value_counts()"
   ]
  },
  {
   "cell_type": "code",
   "execution_count": 77,
   "id": "f3d24318-1de6-44b4-bc3d-50e533cc19a6",
   "metadata": {},
   "outputs": [
    {
     "data": {
      "text/html": [
       "<div>\n",
       "<style scoped>\n",
       "    .dataframe tbody tr th:only-of-type {\n",
       "        vertical-align: middle;\n",
       "    }\n",
       "\n",
       "    .dataframe tbody tr th {\n",
       "        vertical-align: top;\n",
       "    }\n",
       "\n",
       "    .dataframe thead th {\n",
       "        text-align: right;\n",
       "    }\n",
       "</style>\n",
       "<table border=\"1\" class=\"dataframe\">\n",
       "  <thead>\n",
       "    <tr style=\"text-align: right;\">\n",
       "      <th></th>\n",
       "      <th>emotion</th>\n",
       "      <th>comment</th>\n",
       "    </tr>\n",
       "  </thead>\n",
       "  <tbody>\n",
       "    <tr>\n",
       "      <th>count</th>\n",
       "      <td>9873</td>\n",
       "      <td>9873</td>\n",
       "    </tr>\n",
       "    <tr>\n",
       "      <th>unique</th>\n",
       "      <td>6</td>\n",
       "      <td>9837</td>\n",
       "    </tr>\n",
       "    <tr>\n",
       "      <th>top</th>\n",
       "      <td>surprise</td>\n",
       "      <td>ethioamericans are disgusted by what is doing ...</td>\n",
       "    </tr>\n",
       "    <tr>\n",
       "      <th>freq</th>\n",
       "      <td>1658</td>\n",
       "      <td>6</td>\n",
       "    </tr>\n",
       "  </tbody>\n",
       "</table>\n",
       "</div>"
      ],
      "text/plain": [
       "         emotion                                            comment\n",
       "count       9873                                               9873\n",
       "unique         6                                               9837\n",
       "top     surprise  ethioamericans are disgusted by what is doing ...\n",
       "freq        1658                                                  6"
      ]
     },
     "execution_count": 77,
     "metadata": {},
     "output_type": "execute_result"
    }
   ],
   "source": [
    "df_final.describe()"
   ]
  },
  {
   "cell_type": "code",
   "execution_count": 78,
   "id": "5ff36ca0-90f6-4095-a251-b93e30377b3a",
   "metadata": {},
   "outputs": [],
   "source": [
    "df_final.to_csv(\"./dataset/preprocessed_datasets/final_dataset.csv\", sep=\",\", index=False)"
   ]
  },
  {
   "cell_type": "code",
   "execution_count": null,
   "id": "e7dd7a32-5ce4-445e-902c-56475f4cb949",
   "metadata": {},
   "outputs": [],
   "source": []
  }
 ],
 "metadata": {
  "kernelspec": {
   "display_name": "venv_mgr",
   "language": "python",
   "name": "venv_mgr"
  },
  "language_info": {
   "codemirror_mode": {
    "name": "ipython",
    "version": 3
   },
   "file_extension": ".py",
   "mimetype": "text/x-python",
   "name": "python",
   "nbconvert_exporter": "python",
   "pygments_lexer": "ipython3",
   "version": "3.8.10"
  }
 },
 "nbformat": 4,
 "nbformat_minor": 5
}
