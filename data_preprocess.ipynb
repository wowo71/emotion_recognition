{
 "cells": [
  {
   "cell_type": "code",
   "execution_count": 16,
   "id": "05de3d6b-a941-4f1e-a603-a6784ae70411",
   "metadata": {},
   "outputs": [],
   "source": [
    "import pandas as pd"
   ]
  },
  {
   "cell_type": "markdown",
   "id": "3612fc7c-c8c8-43a7-ae13-00db2746ddca",
   "metadata": {},
   "source": [
    "### iSEAR preprocessing"
   ]
  },
  {
   "cell_type": "code",
   "execution_count": 17,
   "id": "91e34a54-6d56-4902-a227-2d4c6a78fb61",
   "metadata": {},
   "outputs": [],
   "source": [
    "df = pd.read_csv(\"./dataset/original_datasets/isear.csv\", sep=\"|\")"
   ]
  },
  {
   "cell_type": "code",
   "execution_count": 18,
   "id": "4ad63465-f6d9-4388-9cc0-866334d91c86",
   "metadata": {},
   "outputs": [],
   "source": [
    "df = df[[\"Field1\", \"SIT\"]]\n",
    "df = df.rename(columns={\"Field1\": \"emotion\", \"SIT\": \"comment\"})"
   ]
  },
  {
   "cell_type": "code",
   "execution_count": 19,
   "id": "14aaf02e-a84f-4750-bda8-3756cb38bbf4",
   "metadata": {},
   "outputs": [],
   "source": [
    "df = df.drop(df[df.comment.str.startswith(\"[\") & df.comment.str.endswith(\"]\")].index)"
   ]
  },
  {
   "cell_type": "code",
   "execution_count": 20,
   "id": "82a0b348-9492-4fdf-bb6b-a14b7d7e849d",
   "metadata": {},
   "outputs": [],
   "source": [
    "df = df.drop_duplicates(subset=\"comment\")"
   ]
  },
  {
   "cell_type": "code",
   "execution_count": 21,
   "id": "6eea9a01-1654-443a-904b-589ac664806f",
   "metadata": {},
   "outputs": [
    {
     "data": {
      "text/plain": [
       "fear       1073\n",
       "anger      1070\n",
       "joy        1066\n",
       "disgust    1063\n",
       "guilt      1045\n",
       "sadness    1040\n",
       "shame      1040\n",
       "Name: emotion, dtype: int64"
      ]
     },
     "execution_count": 21,
     "metadata": {},
     "output_type": "execute_result"
    }
   ],
   "source": [
    "df['emotion'].value_counts()"
   ]
  },
  {
   "cell_type": "code",
   "execution_count": 22,
   "id": "ef8adf2b-f1fd-4c35-9c42-2ca986d2b294",
   "metadata": {},
   "outputs": [],
   "source": [
    "df = df.drop(df[df.emotion == \"shame\"].index)\n",
    "df = df.drop(df[df.emotion == \"guilt\"].index)"
   ]
  },
  {
   "cell_type": "code",
   "execution_count": 23,
   "id": "11d11c74-f390-4e9e-8a40-b5cec07da373",
   "metadata": {},
   "outputs": [],
   "source": [
    "from spellchecker import SpellChecker\n",
    "\n",
    "spell = SpellChecker()\n",
    "\n",
    "def spell_check(x):\n",
    "    correct_word = []\n",
    "    mispelled_word = x.split()\n",
    "    for word in mispelled_word:\n",
    "        correct_word.append(spell.correction(word))\n",
    "    return ' '.join(correct_word)"
   ]
  },
  {
   "cell_type": "code",
   "execution_count": 24,
   "id": "eb5be0ef-2acf-49cb-87be-535ce43d6ea8",
   "metadata": {},
   "outputs": [],
   "source": [
    "df['comment'] = df['comment'].apply(lambda x: spell_check(x))"
   ]
  },
  {
   "cell_type": "code",
   "execution_count": 25,
   "id": "64fa8246-f7bd-4108-9fd7-d6341cca2320",
   "metadata": {},
   "outputs": [
    {
     "data": {
      "text/html": [
       "<div>\n",
       "<style scoped>\n",
       "    .dataframe tbody tr th:only-of-type {\n",
       "        vertical-align: middle;\n",
       "    }\n",
       "\n",
       "    .dataframe tbody tr th {\n",
       "        vertical-align: top;\n",
       "    }\n",
       "\n",
       "    .dataframe thead th {\n",
       "        text-align: right;\n",
       "    }\n",
       "</style>\n",
       "<table border=\"1\" class=\"dataframe\">\n",
       "  <thead>\n",
       "    <tr style=\"text-align: right;\">\n",
       "      <th></th>\n",
       "      <th>emotion</th>\n",
       "      <th>comment</th>\n",
       "    </tr>\n",
       "  </thead>\n",
       "  <tbody>\n",
       "    <tr>\n",
       "      <th>0</th>\n",
       "      <td>joy</td>\n",
       "      <td>During the period of falling in love each time...</td>\n",
       "    </tr>\n",
       "    <tr>\n",
       "      <th>1</th>\n",
       "      <td>fear</td>\n",
       "      <td>When I was involved in a traffic accident</td>\n",
       "    </tr>\n",
       "    <tr>\n",
       "      <th>2</th>\n",
       "      <td>anger</td>\n",
       "      <td>When I was driving home after several days of ...</td>\n",
       "    </tr>\n",
       "    <tr>\n",
       "      <th>3</th>\n",
       "      <td>sadness</td>\n",
       "      <td>When I lost the person who meant the most to me</td>\n",
       "    </tr>\n",
       "    <tr>\n",
       "      <th>4</th>\n",
       "      <td>disgust</td>\n",
       "      <td>The time I knocked a deer down - the sight of ...</td>\n",
       "    </tr>\n",
       "    <tr>\n",
       "      <th>...</th>\n",
       "      <td>...</td>\n",
       "      <td>...</td>\n",
       "    </tr>\n",
       "    <tr>\n",
       "      <th>7659</th>\n",
       "      <td>joy</td>\n",
       "      <td>I received a letter from a distant friend</td>\n",
       "    </tr>\n",
       "    <tr>\n",
       "      <th>7660</th>\n",
       "      <td>fear</td>\n",
       "      <td>My parents were out and I was the eldest at ho...</td>\n",
       "    </tr>\n",
       "    <tr>\n",
       "      <th>7661</th>\n",
       "      <td>anger</td>\n",
       "      <td>Two years back someone invited me to be the tu...</td>\n",
       "    </tr>\n",
       "    <tr>\n",
       "      <th>7662</th>\n",
       "      <td>sadness</td>\n",
       "      <td>I had taken the responsibility to do something...</td>\n",
       "    </tr>\n",
       "    <tr>\n",
       "      <th>7663</th>\n",
       "      <td>disgust</td>\n",
       "      <td>I was at home and I heard a loud sound of spit...</td>\n",
       "    </tr>\n",
       "  </tbody>\n",
       "</table>\n",
       "<p>5312 rows × 2 columns</p>\n",
       "</div>"
      ],
      "text/plain": [
       "      emotion                                            comment\n",
       "0         joy  During the period of falling in love each time...\n",
       "1        fear          When I was involved in a traffic accident\n",
       "2       anger  When I was driving home after several days of ...\n",
       "3     sadness    When I lost the person who meant the most to me\n",
       "4     disgust  The time I knocked a deer down - the sight of ...\n",
       "...       ...                                                ...\n",
       "7659      joy          I received a letter from a distant friend\n",
       "7660     fear  My parents were out and I was the eldest at ho...\n",
       "7661    anger  Two years back someone invited me to be the tu...\n",
       "7662  sadness  I had taken the responsibility to do something...\n",
       "7663  disgust  I was at home and I heard a loud sound of spit...\n",
       "\n",
       "[5312 rows x 2 columns]"
      ]
     },
     "execution_count": 25,
     "metadata": {},
     "output_type": "execute_result"
    }
   ],
   "source": [
    "df"
   ]
  },
  {
   "cell_type": "code",
   "execution_count": 41,
   "id": "5b42a9a9-6e91-438f-93ab-757121e81050",
   "metadata": {},
   "outputs": [],
   "source": [
    "df = df.drop(df[df['comment'].str.split(\" \").apply(len) < 5].index)"
   ]
  },
  {
   "cell_type": "code",
   "execution_count": 42,
   "id": "2055ff9a-b30a-4718-8b2d-333516624708",
   "metadata": {},
   "outputs": [
    {
     "data": {
      "text/html": [
       "<div>\n",
       "<style scoped>\n",
       "    .dataframe tbody tr th:only-of-type {\n",
       "        vertical-align: middle;\n",
       "    }\n",
       "\n",
       "    .dataframe tbody tr th {\n",
       "        vertical-align: top;\n",
       "    }\n",
       "\n",
       "    .dataframe thead th {\n",
       "        text-align: right;\n",
       "    }\n",
       "</style>\n",
       "<table border=\"1\" class=\"dataframe\">\n",
       "  <thead>\n",
       "    <tr style=\"text-align: right;\">\n",
       "      <th></th>\n",
       "      <th>emotion</th>\n",
       "      <th>comment</th>\n",
       "    </tr>\n",
       "  </thead>\n",
       "  <tbody>\n",
       "    <tr>\n",
       "      <th>count</th>\n",
       "      <td>5149</td>\n",
       "      <td>5149</td>\n",
       "    </tr>\n",
       "    <tr>\n",
       "      <th>unique</th>\n",
       "      <td>5</td>\n",
       "      <td>5149</td>\n",
       "    </tr>\n",
       "    <tr>\n",
       "      <th>top</th>\n",
       "      <td>anger</td>\n",
       "      <td>During the period of falling in love each time...</td>\n",
       "    </tr>\n",
       "    <tr>\n",
       "      <th>freq</th>\n",
       "      <td>1043</td>\n",
       "      <td>1</td>\n",
       "    </tr>\n",
       "  </tbody>\n",
       "</table>\n",
       "</div>"
      ],
      "text/plain": [
       "       emotion                                            comment\n",
       "count     5149                                               5149\n",
       "unique       5                                               5149\n",
       "top      anger  During the period of falling in love each time...\n",
       "freq      1043                                                  1"
      ]
     },
     "execution_count": 42,
     "metadata": {},
     "output_type": "execute_result"
    }
   ],
   "source": [
    "df.describe()"
   ]
  },
  {
   "cell_type": "code",
   "execution_count": 43,
   "id": "e338e11c-f5fc-4846-ad32-8bf2cf0cce75",
   "metadata": {},
   "outputs": [
    {
     "data": {
      "text/plain": [
       "anger      1043\n",
       "fear       1042\n",
       "joy        1040\n",
       "disgust    1039\n",
       "sadness     985\n",
       "Name: emotion, dtype: int64"
      ]
     },
     "execution_count": 43,
     "metadata": {},
     "output_type": "execute_result"
    }
   ],
   "source": [
    "df['emotion'].value_counts()"
   ]
  },
  {
   "cell_type": "code",
   "execution_count": 44,
   "id": "385039ea-4b17-4e22-b089-98764ef8e9f3",
   "metadata": {},
   "outputs": [],
   "source": [
    "import re\n",
    "\n",
    "def remove_non_utf_8_chars_from_text(text):\n",
    "    pattern = re.compile('(?i)[^a-z0-9 \\n]+')\n",
    "    return pattern.sub('', text)"
   ]
  },
  {
   "cell_type": "code",
   "execution_count": 46,
   "id": "fb9471ac-6b41-463c-8c80-f0ce34e3c41e",
   "metadata": {},
   "outputs": [],
   "source": [
    "df['comment'] = df['comment'].apply(remove_non_utf_8_chars_from_text)"
   ]
  },
  {
   "cell_type": "code",
   "execution_count": 47,
   "id": "9b057dfe-0d1e-49ce-9cd0-7e16a9eed28e",
   "metadata": {},
   "outputs": [
    {
     "data": {
      "text/html": [
       "<div>\n",
       "<style scoped>\n",
       "    .dataframe tbody tr th:only-of-type {\n",
       "        vertical-align: middle;\n",
       "    }\n",
       "\n",
       "    .dataframe tbody tr th {\n",
       "        vertical-align: top;\n",
       "    }\n",
       "\n",
       "    .dataframe thead th {\n",
       "        text-align: right;\n",
       "    }\n",
       "</style>\n",
       "<table border=\"1\" class=\"dataframe\">\n",
       "  <thead>\n",
       "    <tr style=\"text-align: right;\">\n",
       "      <th></th>\n",
       "      <th>emotion</th>\n",
       "      <th>comment</th>\n",
       "    </tr>\n",
       "  </thead>\n",
       "  <tbody>\n",
       "    <tr>\n",
       "      <th>0</th>\n",
       "      <td>joy</td>\n",
       "      <td>During the period of falling in love each time...</td>\n",
       "    </tr>\n",
       "    <tr>\n",
       "      <th>1</th>\n",
       "      <td>fear</td>\n",
       "      <td>When I was involved in a traffic accident</td>\n",
       "    </tr>\n",
       "    <tr>\n",
       "      <th>2</th>\n",
       "      <td>anger</td>\n",
       "      <td>When I was driving home after several days of ...</td>\n",
       "    </tr>\n",
       "    <tr>\n",
       "      <th>3</th>\n",
       "      <td>sadness</td>\n",
       "      <td>When I lost the person who meant the most to me</td>\n",
       "    </tr>\n",
       "    <tr>\n",
       "      <th>4</th>\n",
       "      <td>disgust</td>\n",
       "      <td>The time I knocked a deer down  the sight of t...</td>\n",
       "    </tr>\n",
       "    <tr>\n",
       "      <th>...</th>\n",
       "      <td>...</td>\n",
       "      <td>...</td>\n",
       "    </tr>\n",
       "    <tr>\n",
       "      <th>7659</th>\n",
       "      <td>joy</td>\n",
       "      <td>I received a letter from a distant friend</td>\n",
       "    </tr>\n",
       "    <tr>\n",
       "      <th>7660</th>\n",
       "      <td>fear</td>\n",
       "      <td>My parents were out and I was the eldest at ho...</td>\n",
       "    </tr>\n",
       "    <tr>\n",
       "      <th>7661</th>\n",
       "      <td>anger</td>\n",
       "      <td>Two years back someone invited me to be the tu...</td>\n",
       "    </tr>\n",
       "    <tr>\n",
       "      <th>7662</th>\n",
       "      <td>sadness</td>\n",
       "      <td>I had taken the responsibility to do something...</td>\n",
       "    </tr>\n",
       "    <tr>\n",
       "      <th>7663</th>\n",
       "      <td>disgust</td>\n",
       "      <td>I was at home and I heard a loud sound of spit...</td>\n",
       "    </tr>\n",
       "  </tbody>\n",
       "</table>\n",
       "<p>5149 rows × 2 columns</p>\n",
       "</div>"
      ],
      "text/plain": [
       "      emotion                                            comment\n",
       "0         joy  During the period of falling in love each time...\n",
       "1        fear          When I was involved in a traffic accident\n",
       "2       anger  When I was driving home after several days of ...\n",
       "3     sadness    When I lost the person who meant the most to me\n",
       "4     disgust  The time I knocked a deer down  the sight of t...\n",
       "...       ...                                                ...\n",
       "7659      joy          I received a letter from a distant friend\n",
       "7660     fear  My parents were out and I was the eldest at ho...\n",
       "7661    anger  Two years back someone invited me to be the tu...\n",
       "7662  sadness  I had taken the responsibility to do something...\n",
       "7663  disgust  I was at home and I heard a loud sound of spit...\n",
       "\n",
       "[5149 rows x 2 columns]"
      ]
     },
     "execution_count": 47,
     "metadata": {},
     "output_type": "execute_result"
    }
   ],
   "source": [
    "df"
   ]
  },
  {
   "cell_type": "code",
   "execution_count": null,
   "id": "f6280027-a203-4d44-99b4-4f4c024e1445",
   "metadata": {},
   "outputs": [],
   "source": []
  }
 ],
 "metadata": {
  "kernelspec": {
   "display_name": "venv_mgr",
   "language": "python",
   "name": "venv_mgr"
  },
  "language_info": {
   "codemirror_mode": {
    "name": "ipython",
    "version": 3
   },
   "file_extension": ".py",
   "mimetype": "text/x-python",
   "name": "python",
   "nbconvert_exporter": "python",
   "pygments_lexer": "ipython3",
   "version": "3.8.10"
  }
 },
 "nbformat": 4,
 "nbformat_minor": 5
}
